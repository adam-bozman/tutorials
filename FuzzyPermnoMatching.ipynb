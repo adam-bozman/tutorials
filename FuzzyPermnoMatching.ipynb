{
  "cells": [
    {
      "cell_type": "markdown",
      "metadata": {
        "id": "view-in-github",
        "colab_type": "text"
      },
      "source": [
        "<a href=\"https://colab.research.google.com/github/adam-bozman/tutorials/blob/main/FuzzyPermnoMatching.ipynb\" target=\"_parent\"><img src=\"https://colab.research.google.com/assets/colab-badge.svg\" alt=\"Open In Colab\"/></a>"
      ]
    },
    {
      "cell_type": "code",
      "execution_count": null,
      "metadata": {
        "id": "ctRdHzDvn-Qk"
      },
      "outputs": [],
      "source": [
        "# Install libraries\n",
        "!pip install wrds -q\n",
        "!pip install fuzzywuzzy -q\n",
        "!pip install python-Levenshtein -q\n",
        "!pip install tqdm -q"
      ]
    },
    {
      "cell_type": "code",
      "execution_count": null,
      "metadata": {
        "id": "o9ZukPcvoDyF"
      },
      "outputs": [],
      "source": [
        "import pandas as pd\n",
        "import wrds\n",
        "from fuzzywuzzy import process\n",
        "from tqdm import tqdm\n",
        "\n",
        "# Enable progress_apply in pandas with tqdm\n",
        "tqdm.pandas()"
      ]
    },
    {
      "cell_type": "code",
      "execution_count": null,
      "metadata": {
        "colab": {
          "base_uri": "https://localhost:8080/"
        },
        "id": "a56SvmlPoGwo",
        "outputId": "7e9d5276-2085-47cc-8a91-3b620024706a"
      },
      "outputs": [
        {
          "output_type": "stream",
          "name": "stdout",
          "text": [
            "Enter your WRDS username [root]:bozmanadam\n",
            "Enter your password:··········\n",
            "WRDS recommends setting up a .pgpass file.\n",
            "Create .pgpass file now [y/n]?: y\n",
            "Created .pgpass file successfully.\n",
            "You can create this file yourself at any time with the create_pgpass_file() function.\n",
            "Loading library list...\n",
            "Done\n"
          ]
        }
      ],
      "source": [
        "# Connect to WRDS\n",
        "conn = wrds.Connection()"
      ]
    },
    {
      "cell_type": "code",
      "execution_count": null,
      "metadata": {
        "id": "QpnfOYohoLda"
      },
      "outputs": [],
      "source": [
        "# Load the Excel file\n",
        "df = pd.read_excel('data.xlsx')  # change to pd.read_csv('your_file.csv') for CSV files"
      ]
    },
    {
      "cell_type": "code",
      "execution_count": null,
      "metadata": {
        "id": "z6blvJVvoXgw"
      },
      "outputs": [],
      "source": [
        "# Fetch companies with consideration to the end of 2022 and early 2023\n",
        "refined_query = \"\"\"\n",
        "    SELECT DISTINCT permno, ticker, comnam\n",
        "    FROM crsp.msenames\n",
        "    WHERE (namedt <= '2023-01-01' AND (nameendt >= '2023-01-01' OR nameendt IS NULL OR nameendt = '2022-12-30'))\n",
        "    OR (namedt BETWEEN '2023-01-01' AND '2023-01-31');\n",
        "\"\"\"\n",
        "all_companies = conn.raw_sql(refined_query)"
      ]
    },
    {
      "cell_type": "code",
      "execution_count": null,
      "metadata": {
        "colab": {
          "base_uri": "https://localhost:8080/"
        },
        "id": "SMUNLnteobld",
        "outputId": "4b3d3209-85c3-4319-8fc8-70b17b718064"
      },
      "outputs": [
        {
          "output_type": "stream",
          "name": "stdout",
          "text": [
            "    permno ticker                            comnam\n",
            "0  89216.0    AYI                 ACUITY BRANDS INC\n",
            "1  75837.0    DSM  B N Y MELLON STRAT MUNI BOND FUN\n",
            "2  22688.0   VHNA      VAHANNA TECH EDGE ACQ I CORP\n",
            "3  12303.0   IVOG        VANGUARD ADMIRAL FUNDS INC\n",
            "4  19192.0   HUGE                    FSD PHARMA INC\n"
          ]
        }
      ],
      "source": [
        "# Check the result\n",
        "print(all_companies.head())"
      ]
    },
    {
      "cell_type": "code",
      "execution_count": null,
      "metadata": {
        "id": "uQT_pnScr58a"
      },
      "outputs": [],
      "source": [
        "popular_brands = {\n",
        "    \"apple\": \"Apple Inc.\",\n",
        "    \"google\": \"Alphabet Inc.\",\n",
        "    \"microsoft\": \"Microsoft Corp.\",\n",
        "    \"amazon\": \"Amazon.com Inc.\",\n",
        "    \"facebook\": \"Facebook Inc.\",  # Note: Facebook rebranded as \"Meta\" in late 2021\n",
        "    \"coca-cola\": \"The Coca-Cola Co\",\n",
        "    \"samsung\": \"Samsung Electronics Co Ltd\",\n",
        "    \"disney\": \"Walt Disney Co\",\n",
        "    \"mcdonald's\": \"McDonald's Corp\",\n",
        "    \"toyota\": \"Toyota Motor Corp\",\n",
        "    \"mercedes-benz\": \"Daimler AG\",\n",
        "    \"nike\": \"NIKE Inc\",\n",
        "    \"intel\": \"Intel Corp\",\n",
        "    \"louis vuitton\": \"LVMH Moet Hennessy Louis Vuitton SE\",\n",
        "    \"walmart\": \"Walmart Inc.\",\n",
        "    \"bmw\": \"Bayerische Motoren Werke AG\",\n",
        "    \"pepsi\": \"PepsiCo Inc.\",\n",
        "    \"adidas\": \"Adidas AG\",\n",
        "    \"starbucks\": \"Starbucks Corp.\",\n",
        "    \"netflix\": \"Netflix Inc.\",\n",
        "    \"american express\": \"American Express Co\",\n",
        "    \"visa\": \"Visa Inc.\",\n",
        "    \"ikea\": \"Inter IKEA Systems B.V.\",  # Note: IKEA might not match stock data as it's privately held\n",
        "    \"oracle\": \"Oracle Corp\",\n",
        "    \"nintendo\": \"Nintendo Co Ltd\",\n",
        "    \"ford\": \"Ford Motor Co\",\n",
        "    \"honda\": \"Honda Motor Co Ltd\",\n",
        "    \"ge\": \"General Electric Co\",\n",
        "    \"h&m\": \"H & M Hennes & Mauritz AB\",\n",
        "    \"gucci\": \"Kering SA\",  # Gucci is owned by Kering\n",
        "    \"hermes\": \"Hermes International SCA\",\n",
        "    \"cisco\": \"Cisco Systems Inc\",\n",
        "    \"porsche\": \"Porsche AG\",\n",
        "    \"marlboro\": \"Philip Morris International Inc.\",\n",
        "    \"chanel\": \"Chanel International B.V.\",  # Note: Might not match stock data as Chanel is privately held\n",
        "    \"accenture\": \"Accenture Plc\",\n",
        "    \"audi\": \"Audi AG\",\n",
        "    \"nissan\": \"Nissan Motor Co Ltd\",\n",
        "    \"zara\": \"Inditex SA\",\n",
        "    \"siemens\": \"Siemens AG\",\n",
        "    \"mastercard\": \"Mastercard Inc\",\n",
        "    \"hp\": \"Hewlett-Packard Co\",\n",
        "    \"lego\": \"The LEGO Group\",  # Note: LEGO is privately held, might not match stock data\n",
        "    \"ups\": \"United Parcel Service Inc.\",\n",
        "    \"gillette\": \"Procter & Gamble Co\",\n",
        "    \"goldman sachs\": \"Goldman Sachs Group Inc\",\n",
        "    \"puma\": \"Puma SE\",\n",
        "    \"kellogg's\": \"Kellogg Co\",\n",
        "    \"heinz\": \"The Kraft Heinz Co\",\n",
        "    \"sony\": \"Sony Corp\",\n",
        "    \"boeing\": \"The Boeing Co\",\n",
        "    \"shell\": \"Royal Dutch Shell PLC\",\n",
        "    \"colgate\": \"Colgate-Palmolive Co\",\n",
        "    \"j.p. morgan\": \"JPMorgan Chase & Co\",\n",
        "    \"rolex\": \"Rolex SA\",  # Note: Rolex is privately held, might not match stock data\n",
        "    \"chevrolet\": \"General Motors Co\",\n",
        "    \"dell\": \"Dell Inc.\",\n",
        "    \"nestle\": \"Nestle SA\",\n",
        "    \"paypal\": \"PayPal Holdings Inc\",\n",
        "    \"att\": \"AT&T Inc.\",\n",
        "    \"cartier\": \"Compagnie Financiere Richemont SA\",  # Cartier is owned by Richemont\n",
        "    \"morgan stanley\": \"Morgan Stanley\",\n",
        "    \"ibm\": \"International Business Machines Corp\",\n",
        "    \"danone\": \"Danone SA\",\n",
        "    \"fedex\": \"FedEx Corp\",\n",
        "    \"ferrari\": \"Ferrari NV\",\n",
        "    \"volkswagen\": \"Volkswagen AG\",\n",
        "    \"kfc\": \"Yum! Brands Inc.\",  # KFC is owned by Yum! Brands\n",
        "    \"hyundai\": \"Hyundai Motor Co\",\n",
        "    \"spotify\": \"Spotify Technology SA\",\n",
        "    \"airbnb\": \"Airbnb Inc\",\n",
        "    \"zoom\": \"Zoom Video Communications Inc.\",\n",
        "    \"tesla\": \"Tesla Inc\",\n",
        "    \"dior\": \"Christian Dior SE\",\n",
        "    \"prada\": \"Prada Spa\",\n",
        "    \"adobe\": \"Adobe Systems Inc\",\n",
        "    \"twitter\": \"Twitter Inc\",\n",
        "    \"lenovo\": \"Lenovo Group Ltd\",\n",
        "    \"uber\": \"Uber Technologies Inc\",\n",
        "    \"chrysler\": \"Stellantis NV\",  # As of my last update, Chrysler is part of Stellantis\n",
        "    \"harley-davidson\": \"Harley-Davidson Inc\",\n",
        "    \"jack daniel's\": \"Brown-Forman Corp\",\n",
        "    \"heineken\": \"Heineken NV\",\n",
        "    \"sprite\": \"The Coca-Cola Co\",  # Sprite is owned by Coca-Cola\n",
        "    \"reebok\": \"Adidas AG\"  # Reebok is owned by Adidas\n",
        "    # ... and more. Adjust as needed!\n",
        "}"
      ]
    },
    {
      "cell_type": "code",
      "execution_count": null,
      "metadata": {
        "id": "6R66NW2KulGj"
      },
      "outputs": [],
      "source": [
        "from fuzzywuzzy import fuzz\n",
        "\n",
        "def get_best_match(brand_name):\n",
        "    # Try to find the brand in the popular_brands dictionary with a threshold of 90%\n",
        "    matching_brands = {k: v for k, v in popular_brands.items() if fuzz.ratio(brand_name.lower(), k) >= 80}\n",
        "\n",
        "    # If we found a match in popular brands\n",
        "    if matching_brands:\n",
        "        best_match_brand = list(matching_brands.values())[0]  # Get the first match\n",
        "        matched_rows = all_companies[all_companies['comnam'].str.contains(best_match_brand, case=False)]\n",
        "\n",
        "        if not matched_rows.empty:\n",
        "            all_permnos = matched_rows['permno'].unique()\n",
        "            return pd.Series([best_match_brand, ', '.join(map(str, all_permnos)), matched_rows['ticker'].iloc[0]])\n",
        "\n",
        "    # If no match in popular brands, perform the fuzzy match on all_companies\n",
        "    else:\n",
        "        best_match = process.extractOne(brand_name, all_companies['comnam'], score_cutoff=80)\n",
        "\n",
        "        if best_match:\n",
        "            best_comnam, score = best_match[:2]\n",
        "            matched_rows = all_companies[all_companies['comnam'].str.contains(best_comnam, case=False)]\n",
        "\n",
        "            # Collecting all permnos for the matched company\n",
        "            if not matched_rows.empty:\n",
        "                all_permnos = matched_rows['permno'].unique()\n",
        "                return pd.Series([best_comnam, ', '.join(map(str, all_permnos)), matched_rows['ticker'].iloc[0]])\n",
        "\n",
        "    # Return 'none' if no match found at all\n",
        "    return pd.Series([\"\", \"\", \"\"])"
      ]
    },
    {
      "cell_type": "code",
      "execution_count": null,
      "metadata": {
        "colab": {
          "base_uri": "https://localhost:8080/"
        },
        "id": "DdydUgFgogPE",
        "outputId": "84e09787-f74c-4683-edcc-2c1e20bc618f"
      },
      "outputs": [
        {
          "output_type": "stream",
          "name": "stderr",
          "text": [
            "100%|██████████| 391/391 [03:44<00:00,  1.74it/s]\n"
          ]
        }
      ],
      "source": [
        "df[['matched_comnam', 'matched_permnos', 'matched_ticker']] = df['Brand'].progress_apply(get_best_match)"
      ]
    },
    {
      "cell_type": "code",
      "execution_count": null,
      "metadata": {
        "id": "9J8Ij-KUo0Nj"
      },
      "outputs": [],
      "source": [
        "df.to_excel('output_with_matches.xlsx', index=False)"
      ]
    }
  ],
  "metadata": {
    "colab": {
      "provenance": [],
      "authorship_tag": "ABX9TyNrLg2HJANrR35vr20SJ+b2",
      "include_colab_link": true
    },
    "kernelspec": {
      "display_name": "Python 3",
      "name": "python3"
    },
    "language_info": {
      "name": "python"
    }
  },
  "nbformat": 4,
  "nbformat_minor": 0
}